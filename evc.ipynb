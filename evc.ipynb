{
 "cells": [
  {
   "cell_type": "code",
   "execution_count": null,
   "id": "f5f86bd6",
   "metadata": {},
   "outputs": [],
   "source": [
    " # Sample data\n",
    "expression_data = [(\"BRCA1\", 12.5), (\"TP53\", 0.0), (\"MYC\", 8.7), (\"BRCA1\", 12.5), (\"EGFR\", 15.1)]\n",
    "\n",
    "# Task 1: Convert to dictionary\n",
    "# If a gene appears multiple times, the last occurrence will overwrite previous ones\n",
    "expression_dict = {gene: expr for gene, expr in expression_data}\n",
    "print(\"Dictionary of gene expressions:\")\n",
    "print(expression_dict)\n",
    "\n",
    "# Task 2: Create a set of unique gene names\n",
    "unique_genes = {gene for gene, _ in expression_data}\n",
    "print(\"\\nSet of unique gene names:\")\n",
    "print(unique_genes)\n",
    "\n",
    "# Task 3: Define Gene class and check expression\n",
    "class Gene:\n",
    "    def __init__(self, name, expression):\n",
    "        self.name = name\n",
    "        self.expression = expression\n",
    "\n",
    "    def is_expressed(self):\n",
    "        return self.expression > 0\n",
    "\n",
    "# Run against sample data\n",
    "print(\"\\nGene expression status:\")\n",
    "for gene_name, expr in expression_data:\n",
    "    gene = Gene(gene_name, expr)\n",
    "    print(f\"{gene.name}: {'Expressed' if gene.is_expressed() else 'Not expressed'}\")\n",
    "\n"
   ]
  }
 ],
 "metadata": {
  "kernelspec": {
   "display_name": "Python 3",
   "language": "python",
   "name": "python3"
  },
  "language_info": {
   "name": "python",
   "version": "3.12.10"
  }
 },
 "nbformat": 4,
 "nbformat_minor": 5
}
